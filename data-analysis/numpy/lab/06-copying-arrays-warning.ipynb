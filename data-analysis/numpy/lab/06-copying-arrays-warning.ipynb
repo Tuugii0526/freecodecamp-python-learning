{
 "cells": [
  {
   "cell_type": "code",
   "execution_count": 1,
   "id": "5528260a",
   "metadata": {},
   "outputs": [],
   "source": [
    "import numpy as np"
   ]
  },
  {
   "cell_type": "code",
   "execution_count": 5,
   "id": "4406d917",
   "metadata": {},
   "outputs": [
    {
     "name": "stdout",
     "output_type": "stream",
     "text": [
      "[3 2 3]\n",
      "[1 2 3]\n"
     ]
    }
   ],
   "source": [
    "b=np.array([1,2,3])\n",
    "a=b.copy()\n",
    "a[0]=3\n",
    "print(a)\n",
    "print(b)"
   ]
  },
  {
   "cell_type": "code",
   "execution_count": 6,
   "id": "1ccb49fc",
   "metadata": {},
   "outputs": [],
   "source": [
    "## element wise\n",
    "a=np.array([8,9,3])"
   ]
  },
  {
   "cell_type": "code",
   "execution_count": 8,
   "id": "18f5e3d9",
   "metadata": {},
   "outputs": [
    {
     "data": {
      "text/plain": [
       "array([-0.14550003, -0.91113026, -0.9899925 ])"
      ]
     },
     "execution_count": 8,
     "metadata": {},
     "output_type": "execute_result"
    }
   ],
   "source": [
    "np.cos(a)\n"
   ]
  },
  {
   "cell_type": "code",
   "execution_count": 11,
   "id": "d135d7cc",
   "metadata": {},
   "outputs": [
    {
     "data": {
      "text/plain": [
       "array([9, 9, 9, 9])"
      ]
     },
     "execution_count": 11,
     "metadata": {},
     "output_type": "execute_result"
    }
   ],
   "source": [
    "## linear algebra\n",
    "a=np.ones((2,4))\n",
    "b=np.full((4,2),9)\n",
    "np.max(b,axis=1)"
   ]
  },
  {
   "cell_type": "code",
   "execution_count": 34,
   "id": "ee6c32c3",
   "metadata": {},
   "outputs": [
    {
     "name": "stdout",
     "output_type": "stream",
     "text": [
      "10322\n"
     ]
    }
   ],
   "source": [
    "## reorganizing arrays\n",
    "a=np.full((3,3),1)\n",
    "b=a.reshape((1,9))\n",
    "gen=np.genfromtxt('data.txt',delimiter=',')\n",
    "gen=gen.reshape((2,7))\n",
    "gen=gen.astype('int32')\n",
    "print(gen.sum())"
   ]
  },
  {
   "cell_type": "code",
   "execution_count": 56,
   "id": "0f24d64e",
   "metadata": {},
   "outputs": [
    {
     "name": "stdout",
     "output_type": "stream",
     "text": [
      "[[   1    2    2    3    4    4    5    1 5123    1 5123    1   51    1]]\n"
     ]
    },
    {
     "data": {
      "text/plain": [
       "array([   1,    2,    2,    3,    4,    4,    5,    1, 5123,    1, 5123,\n",
       "          1,   51,    1], dtype=int32)"
      ]
     },
     "execution_count": 56,
     "metadata": {},
     "output_type": "execute_result"
    }
   ],
   "source": [
    "gen.size\n",
    "oneDimension=gen.reshape((1,14))\n",
    "print(oneDimension)\n",
    "oneDimension[oneDimension>0]"
   ]
  }
 ],
 "metadata": {
  "kernelspec": {
   "display_name": ".venv",
   "language": "python",
   "name": "python3"
  },
  "language_info": {
   "codemirror_mode": {
    "name": "ipython",
    "version": 3
   },
   "file_extension": ".py",
   "mimetype": "text/x-python",
   "name": "python",
   "nbconvert_exporter": "python",
   "pygments_lexer": "ipython3",
   "version": "3.13.5"
  }
 },
 "nbformat": 4,
 "nbformat_minor": 5
}
