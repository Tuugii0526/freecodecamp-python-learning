{
 "cells": [
  {
   "cell_type": "code",
   "execution_count": 9,
   "id": "735e6ed3",
   "metadata": {},
   "outputs": [],
   "source": [
    "import numpy as np\n"
   ]
  },
  {
   "cell_type": "code",
   "execution_count": 5,
   "id": "19404410",
   "metadata": {},
   "outputs": [
    {
     "data": {
      "text/plain": [
       "array([[[0., 0.],\n",
       "        [0., 0.]],\n",
       "\n",
       "       [[0., 0.],\n",
       "        [0., 0.]]])"
      ]
     },
     "execution_count": 5,
     "metadata": {},
     "output_type": "execute_result"
    }
   ],
   "source": [
    "## all zeros matrix\n",
    "np.zeros((2,2,2,))\n"
   ]
  },
  {
   "cell_type": "code",
   "execution_count": 6,
   "id": "99afb4e6",
   "metadata": {},
   "outputs": [
    {
     "data": {
      "text/plain": [
       "array([[[1.]]])"
      ]
     },
     "execution_count": 6,
     "metadata": {},
     "output_type": "execute_result"
    }
   ],
   "source": [
    "## all ones\n",
    "np.ones((1,1,1))"
   ]
  },
  {
   "cell_type": "code",
   "execution_count": 7,
   "id": "933ece27",
   "metadata": {},
   "outputs": [
    {
     "data": {
      "text/plain": [
       "array([[100, 100],\n",
       "       [100, 100]])"
      ]
     },
     "execution_count": 7,
     "metadata": {},
     "output_type": "execute_result"
    }
   ],
   "source": [
    "# full\n",
    "np.full((2,2),100)"
   ]
  },
  {
   "cell_type": "code",
   "execution_count": 12,
   "id": "6120fc9b",
   "metadata": {},
   "outputs": [
    {
     "data": {
      "text/plain": [
       "array([[0.147907  , 0.49891742],\n",
       "       [0.19074551, 0.58080884],\n",
       "       [0.39417667, 0.60013052]])"
      ]
     },
     "execution_count": 12,
     "metadata": {},
     "output_type": "execute_result"
    }
   ],
   "source": [
    "# random\n",
    "np.random.rand(3,2)"
   ]
  },
  {
   "cell_type": "markdown",
   "id": "da7329d3",
   "metadata": {},
   "source": [
    "1. Тэгэхлээр бид юу сурсан вэ ? \n",
    "zeros ,ones, full ,rand, identity , full_like , repeat \n",
    "2. Бид цаашид яах вэ ? \n",
    "Бид эдгээрээс ямар арга техник ашиглаж болох вээ гэдгийг харах ажээ ."
   ]
  },
  {
   "cell_type": "markdown",
   "id": "0f148d0b",
   "metadata": {},
   "source": []
  }
 ],
 "metadata": {
  "kernelspec": {
   "display_name": "Python 3",
   "language": "python",
   "name": "python3"
  },
  "language_info": {
   "codemirror_mode": {
    "name": "ipython",
    "version": 3
   },
   "file_extension": ".py",
   "mimetype": "text/x-python",
   "name": "python",
   "nbconvert_exporter": "python",
   "pygments_lexer": "ipython3",
   "version": "3.13.5"
  }
 },
 "nbformat": 4,
 "nbformat_minor": 5
}
