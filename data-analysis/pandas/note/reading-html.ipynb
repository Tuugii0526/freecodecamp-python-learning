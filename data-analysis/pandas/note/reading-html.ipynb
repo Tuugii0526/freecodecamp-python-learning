{
 "cells": [
  {
   "cell_type": "code",
   "execution_count": 7,
   "id": "beb99375",
   "metadata": {},
   "outputs": [
    {
     "name": "stdout",
     "output_type": "stream",
     "text": [
      "Collecting lxml\n",
      "  Downloading lxml-6.0.0-cp313-cp313-macosx_10_13_universal2.whl.metadata (6.6 kB)\n",
      "Downloading lxml-6.0.0-cp313-cp313-macosx_10_13_universal2.whl (8.4 MB)\n",
      "\u001b[2K   \u001b[90m━━━━━━━━━━━━━━━━━━━━━━━━━━━━━━━━━━━━━━━━\u001b[0m \u001b[32m8.4/8.4 MB\u001b[0m \u001b[31m1.6 MB/s\u001b[0m eta \u001b[36m0:00:00\u001b[0ma \u001b[36m0:00:01\u001b[0m\n",
      "\u001b[?25hInstalling collected packages: lxml\n",
      "Successfully installed lxml-6.0.0\n",
      "Note: you may need to restart the kernel to use updated packages.\n"
     ]
    },
    {
     "name": "stderr",
     "output_type": "stream",
     "text": [
      "/var/folders/61/wmsq9jb528s25kd4dbw7_nt00000gn/T/ipykernel_4002/2012637125.py:7: FutureWarning: Passing literal html to 'read_html' is deprecated and will be removed in a future version. To read from a literal string, wrap it in a 'StringIO' object.\n",
      "  wiki_tables=pd.read_html(r.text,header=0)\n"
     ]
    },
    {
     "data": {
      "text/plain": [
       "49"
      ]
     },
     "execution_count": 7,
     "metadata": {},
     "output_type": "execute_result"
    }
   ],
   "source": [
    "%pip install lxml\n",
    "\n",
    "import pandas as pd\n",
    "import requests\n",
    "html_url=\"https://en.wikipedia.org/wiki/The_Simpsons\"\n",
    "r=requests.get(html_url)\n",
    "wiki_tables=pd.read_html(r.text,header=0)\n",
    "len(wiki_tables)"
   ]
  },
  {
   "cell_type": "code",
   "execution_count": 12,
   "id": "a9c06a1c",
   "metadata": {},
   "outputs": [
    {
     "name": "stdout",
     "output_type": "stream",
     "text": [
      "                                        Cast members  \\\n",
      "0                                                NaN   \n",
      "1                                   Dan Castellaneta   \n",
      "2  Homer Simpson, Abe Simpson, Krusty the Clown, ...   \n",
      "\n",
      "                                      Cast members.1  \\\n",
      "0                                                NaN   \n",
      "1                                       Julie Kavner   \n",
      "2  Marge Simpson, Patty and Selma Bouvier, additi...   \n",
      "\n",
      "                                      Cast members.2  Cast members.3  \\\n",
      "0                                                NaN             NaN   \n",
      "1                                   Nancy Cartwright  Yeardley Smith   \n",
      "2  Bart Simpson, Maggie Simpson, Nelson Muntz, va...    Lisa Simpson   \n",
      "\n",
      "                                      Cast members.4  \\\n",
      "0                                                NaN   \n",
      "1                                        Hank Azaria   \n",
      "2  Moe Szyslak, Chief Wiggum, Apu Nahasapeemapeti...   \n",
      "\n",
      "                                      Cast members.5  Cast members.6  \\\n",
      "0                                                NaN             NaN   \n",
      "1                                      Harry Shearer             NaN   \n",
      "2  Ned Flanders, Mr. Burns, Dr. Hibbert (1990–202...             NaN   \n",
      "\n",
      "   Cast members.7  Cast members.8  \n",
      "0             NaN             NaN  \n",
      "1             NaN             NaN  \n",
      "2             NaN             NaN  \n"
     ]
    }
   ],
   "source": [
    "simpsons=wiki_tables[1]\n",
    "print(simpsons.head())"
   ]
  }
 ],
 "metadata": {
  "kernelspec": {
   "display_name": ".venv",
   "language": "python",
   "name": "python3"
  },
  "language_info": {
   "codemirror_mode": {
    "name": "ipython",
    "version": 3
   },
   "file_extension": ".py",
   "mimetype": "text/x-python",
   "name": "python",
   "nbconvert_exporter": "python",
   "pygments_lexer": "ipython3",
   "version": "3.13.5"
  }
 },
 "nbformat": 4,
 "nbformat_minor": 5
}
